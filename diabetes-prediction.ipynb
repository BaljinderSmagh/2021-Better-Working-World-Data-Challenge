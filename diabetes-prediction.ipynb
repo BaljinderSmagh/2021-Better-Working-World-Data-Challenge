{
 "cells": [
  {
   "cell_type": "code",
   "execution_count": 1,
   "id": "7f88b5c6",
   "metadata": {
    "_cell_guid": "b1076dfc-b9ad-4769-8c92-a6c4dae69d19",
    "_uuid": "8f2839f25d086af736a60e9eeb907d3b93b6e0e5",
    "execution": {
     "iopub.execute_input": "2024-02-17T22:15:54.659959Z",
     "iopub.status.busy": "2024-02-17T22:15:54.658453Z",
     "iopub.status.idle": "2024-02-17T22:15:54.681264Z",
     "shell.execute_reply": "2024-02-17T22:15:54.680205Z"
    },
    "papermill": {
     "duration": 0.041922,
     "end_time": "2024-02-17T22:15:54.684656",
     "exception": false,
     "start_time": "2024-02-17T22:15:54.642734",
     "status": "completed"
    },
    "tags": []
   },
   "outputs": [
    {
     "name": "stdout",
     "output_type": "stream",
     "text": [
      "/kaggle/input/pima-indians-diabetes-database/diabetes.csv\n"
     ]
    }
   ],
   "source": [
    "# This Python 3 environment comes with many helpful analytics libraries installed\n",
    "# It is defined by the kaggle/python Docker image: https://github.com/kaggle/docker-python\n",
    "# For example, here's several helpful packages to load\n",
    "\n",
    "import numpy as np # linear algebra\n",
    "import pandas as pd # data processing, CSV file I/O (e.g. pd.read_csv)\n",
    "\n",
    "# Input data files are available in the read-only \"../input/\" directory\n",
    "# For example, running this (by clicking run or pressing Shift+Enter) will list all files under the input directory\n",
    "\n",
    "import os\n",
    "for dirname, _, filenames in os.walk('/kaggle/input'):\n",
    "    for filename in filenames:\n",
    "        print(os.path.join(dirname, filename))\n",
    "\n",
    "# You can write up to 20GB to the current directory (/kaggle/working/) that gets preserved as output when you create a version using \"Save & Run All\" \n",
    "# You can also write temporary files to /kaggle/temp/, but they won't be saved outside of the current session"
   ]
  },
  {
   "cell_type": "code",
   "execution_count": 2,
   "id": "246a7995",
   "metadata": {
    "execution": {
     "iopub.execute_input": "2024-02-17T22:15:54.712849Z",
     "iopub.status.busy": "2024-02-17T22:15:54.712090Z",
     "iopub.status.idle": "2024-02-17T22:15:55.876291Z",
     "shell.execute_reply": "2024-02-17T22:15:55.874914Z"
    },
    "papermill": {
     "duration": 1.182392,
     "end_time": "2024-02-17T22:15:55.879758",
     "exception": false,
     "start_time": "2024-02-17T22:15:54.697366",
     "status": "completed"
    },
    "tags": []
   },
   "outputs": [],
   "source": [
    "import sklearn"
   ]
  },
  {
   "cell_type": "code",
   "execution_count": 3,
   "id": "05618bbb",
   "metadata": {
    "execution": {
     "iopub.execute_input": "2024-02-17T22:15:55.908154Z",
     "iopub.status.busy": "2024-02-17T22:15:55.907739Z",
     "iopub.status.idle": "2024-02-17T22:15:55.961333Z",
     "shell.execute_reply": "2024-02-17T22:15:55.959614Z"
    },
    "papermill": {
     "duration": 0.071599,
     "end_time": "2024-02-17T22:15:55.964477",
     "exception": false,
     "start_time": "2024-02-17T22:15:55.892878",
     "status": "completed"
    },
    "tags": []
   },
   "outputs": [
    {
     "data": {
      "text/html": [
       "<div>\n",
       "<style scoped>\n",
       "    .dataframe tbody tr th:only-of-type {\n",
       "        vertical-align: middle;\n",
       "    }\n",
       "\n",
       "    .dataframe tbody tr th {\n",
       "        vertical-align: top;\n",
       "    }\n",
       "\n",
       "    .dataframe thead th {\n",
       "        text-align: right;\n",
       "    }\n",
       "</style>\n",
       "<table border=\"1\" class=\"dataframe\">\n",
       "  <thead>\n",
       "    <tr style=\"text-align: right;\">\n",
       "      <th></th>\n",
       "      <th>Pregnancies</th>\n",
       "      <th>Glucose</th>\n",
       "      <th>BloodPressure</th>\n",
       "      <th>SkinThickness</th>\n",
       "      <th>Insulin</th>\n",
       "      <th>BMI</th>\n",
       "      <th>DiabetesPedigreeFunction</th>\n",
       "      <th>Age</th>\n",
       "      <th>Outcome</th>\n",
       "    </tr>\n",
       "  </thead>\n",
       "  <tbody>\n",
       "    <tr>\n",
       "      <th>0</th>\n",
       "      <td>6</td>\n",
       "      <td>148</td>\n",
       "      <td>72</td>\n",
       "      <td>35</td>\n",
       "      <td>0</td>\n",
       "      <td>33.6</td>\n",
       "      <td>0.627</td>\n",
       "      <td>50</td>\n",
       "      <td>1</td>\n",
       "    </tr>\n",
       "    <tr>\n",
       "      <th>1</th>\n",
       "      <td>1</td>\n",
       "      <td>85</td>\n",
       "      <td>66</td>\n",
       "      <td>29</td>\n",
       "      <td>0</td>\n",
       "      <td>26.6</td>\n",
       "      <td>0.351</td>\n",
       "      <td>31</td>\n",
       "      <td>0</td>\n",
       "    </tr>\n",
       "    <tr>\n",
       "      <th>2</th>\n",
       "      <td>8</td>\n",
       "      <td>183</td>\n",
       "      <td>64</td>\n",
       "      <td>0</td>\n",
       "      <td>0</td>\n",
       "      <td>23.3</td>\n",
       "      <td>0.672</td>\n",
       "      <td>32</td>\n",
       "      <td>1</td>\n",
       "    </tr>\n",
       "    <tr>\n",
       "      <th>3</th>\n",
       "      <td>1</td>\n",
       "      <td>89</td>\n",
       "      <td>66</td>\n",
       "      <td>23</td>\n",
       "      <td>94</td>\n",
       "      <td>28.1</td>\n",
       "      <td>0.167</td>\n",
       "      <td>21</td>\n",
       "      <td>0</td>\n",
       "    </tr>\n",
       "    <tr>\n",
       "      <th>4</th>\n",
       "      <td>0</td>\n",
       "      <td>137</td>\n",
       "      <td>40</td>\n",
       "      <td>35</td>\n",
       "      <td>168</td>\n",
       "      <td>43.1</td>\n",
       "      <td>2.288</td>\n",
       "      <td>33</td>\n",
       "      <td>1</td>\n",
       "    </tr>\n",
       "  </tbody>\n",
       "</table>\n",
       "</div>"
      ],
      "text/plain": [
       "   Pregnancies  Glucose  BloodPressure  SkinThickness  Insulin   BMI  \\\n",
       "0            6      148             72             35        0  33.6   \n",
       "1            1       85             66             29        0  26.6   \n",
       "2            8      183             64              0        0  23.3   \n",
       "3            1       89             66             23       94  28.1   \n",
       "4            0      137             40             35      168  43.1   \n",
       "\n",
       "   DiabetesPedigreeFunction  Age  Outcome  \n",
       "0                     0.627   50        1  \n",
       "1                     0.351   31        0  \n",
       "2                     0.672   32        1  \n",
       "3                     0.167   21        0  \n",
       "4                     2.288   33        1  "
      ]
     },
     "execution_count": 3,
     "metadata": {},
     "output_type": "execute_result"
    }
   ],
   "source": [
    "df=pd.read_csv('/kaggle/input/pima-indians-diabetes-database/diabetes.csv')\n",
    "df.head()"
   ]
  },
  {
   "cell_type": "code",
   "execution_count": 4,
   "id": "199e581f",
   "metadata": {
    "execution": {
     "iopub.execute_input": "2024-02-17T22:15:55.993516Z",
     "iopub.status.busy": "2024-02-17T22:15:55.992239Z",
     "iopub.status.idle": "2024-02-17T22:15:56.009494Z",
     "shell.execute_reply": "2024-02-17T22:15:56.008233Z"
    },
    "papermill": {
     "duration": 0.034716,
     "end_time": "2024-02-17T22:15:56.012483",
     "exception": false,
     "start_time": "2024-02-17T22:15:55.977767",
     "status": "completed"
    },
    "tags": []
   },
   "outputs": [
    {
     "data": {
      "text/plain": [
       "Pregnancies                 0.221898\n",
       "Glucose                     0.466581\n",
       "BloodPressure               0.065068\n",
       "SkinThickness               0.074752\n",
       "Insulin                     0.130548\n",
       "BMI                         0.292695\n",
       "DiabetesPedigreeFunction    0.173844\n",
       "Age                         0.238356\n",
       "Outcome                     1.000000\n",
       "Name: Outcome, dtype: float64"
      ]
     },
     "execution_count": 4,
     "metadata": {},
     "output_type": "execute_result"
    }
   ],
   "source": [
    "df.corr()['Outcome']"
   ]
  },
  {
   "cell_type": "code",
   "execution_count": 5,
   "id": "543209ce",
   "metadata": {
    "execution": {
     "iopub.execute_input": "2024-02-17T22:15:56.042043Z",
     "iopub.status.busy": "2024-02-17T22:15:56.040819Z",
     "iopub.status.idle": "2024-02-17T22:15:56.049197Z",
     "shell.execute_reply": "2024-02-17T22:15:56.047862Z"
    },
    "papermill": {
     "duration": 0.026324,
     "end_time": "2024-02-17T22:15:56.052245",
     "exception": false,
     "start_time": "2024-02-17T22:15:56.025921",
     "status": "completed"
    },
    "tags": []
   },
   "outputs": [],
   "source": [
    "X=df.iloc[:,:-1].values\n",
    "y=df.iloc[:,-1].values"
   ]
  },
  {
   "cell_type": "code",
   "execution_count": 6,
   "id": "d501f6e6",
   "metadata": {
    "execution": {
     "iopub.execute_input": "2024-02-17T22:15:56.081506Z",
     "iopub.status.busy": "2024-02-17T22:15:56.080890Z",
     "iopub.status.idle": "2024-02-17T22:15:56.126590Z",
     "shell.execute_reply": "2024-02-17T22:15:56.125106Z"
    },
    "papermill": {
     "duration": 0.064389,
     "end_time": "2024-02-17T22:15:56.130085",
     "exception": false,
     "start_time": "2024-02-17T22:15:56.065696",
     "status": "completed"
    },
    "tags": []
   },
   "outputs": [],
   "source": [
    "from sklearn.preprocessing import StandardScaler"
   ]
  },
  {
   "cell_type": "code",
   "execution_count": 7,
   "id": "f5d9c49e",
   "metadata": {
    "execution": {
     "iopub.execute_input": "2024-02-17T22:15:56.159553Z",
     "iopub.status.busy": "2024-02-17T22:15:56.159086Z",
     "iopub.status.idle": "2024-02-17T22:15:56.164490Z",
     "shell.execute_reply": "2024-02-17T22:15:56.162989Z"
    },
    "papermill": {
     "duration": 0.023941,
     "end_time": "2024-02-17T22:15:56.167365",
     "exception": false,
     "start_time": "2024-02-17T22:15:56.143424",
     "status": "completed"
    },
    "tags": []
   },
   "outputs": [],
   "source": [
    "scaler=StandardScaler()"
   ]
  },
  {
   "cell_type": "code",
   "execution_count": 8,
   "id": "997706da",
   "metadata": {
    "execution": {
     "iopub.execute_input": "2024-02-17T22:15:56.197458Z",
     "iopub.status.busy": "2024-02-17T22:15:56.196980Z",
     "iopub.status.idle": "2024-02-17T22:15:56.203806Z",
     "shell.execute_reply": "2024-02-17T22:15:56.202672Z"
    },
    "papermill": {
     "duration": 0.02464,
     "end_time": "2024-02-17T22:15:56.206435",
     "exception": false,
     "start_time": "2024-02-17T22:15:56.181795",
     "status": "completed"
    },
    "tags": []
   },
   "outputs": [],
   "source": [
    "X=scaler.fit_transform(X)"
   ]
  },
  {
   "cell_type": "code",
   "execution_count": 9,
   "id": "aa43e1fa",
   "metadata": {
    "execution": {
     "iopub.execute_input": "2024-02-17T22:15:56.235374Z",
     "iopub.status.busy": "2024-02-17T22:15:56.234866Z",
     "iopub.status.idle": "2024-02-17T22:15:56.243118Z",
     "shell.execute_reply": "2024-02-17T22:15:56.241750Z"
    },
    "papermill": {
     "duration": 0.026594,
     "end_time": "2024-02-17T22:15:56.246086",
     "exception": false,
     "start_time": "2024-02-17T22:15:56.219492",
     "status": "completed"
    },
    "tags": []
   },
   "outputs": [
    {
     "data": {
      "text/plain": [
       "(768, 8)"
      ]
     },
     "execution_count": 9,
     "metadata": {},
     "output_type": "execute_result"
    }
   ],
   "source": [
    "X.shape"
   ]
  },
  {
   "cell_type": "markdown",
   "id": "929189ba",
   "metadata": {
    "papermill": {
     "duration": 0.012773,
     "end_time": "2024-02-17T22:15:56.271979",
     "exception": false,
     "start_time": "2024-02-17T22:15:56.259206",
     "status": "completed"
    },
    "tags": []
   },
   "source": [
    "from sklearn.model_selectiom import train_test_split\n",
    "X_train,X_test,y_train,y_test=train_test_split(X,y,test_size=0.2,random_state=1)"
   ]
  },
  {
   "cell_type": "code",
   "execution_count": 10,
   "id": "6b871f91",
   "metadata": {
    "execution": {
     "iopub.execute_input": "2024-02-17T22:15:56.300724Z",
     "iopub.status.busy": "2024-02-17T22:15:56.300216Z",
     "iopub.status.idle": "2024-02-17T22:15:56.388888Z",
     "shell.execute_reply": "2024-02-17T22:15:56.387108Z"
    },
    "papermill": {
     "duration": 0.107046,
     "end_time": "2024-02-17T22:15:56.392261",
     "exception": false,
     "start_time": "2024-02-17T22:15:56.285215",
     "status": "completed"
    },
    "tags": []
   },
   "outputs": [],
   "source": [
    "from sklearn.model_selection import train_test_split\n",
    "X_train,X_test,y_train,y_test=train_test_split(X,y,test_size=0.2,random_state=1)"
   ]
  },
  {
   "cell_type": "code",
   "execution_count": 11,
   "id": "2f4164b7",
   "metadata": {
    "execution": {
     "iopub.execute_input": "2024-02-17T22:15:56.421719Z",
     "iopub.status.busy": "2024-02-17T22:15:56.421237Z",
     "iopub.status.idle": "2024-02-17T22:16:06.511827Z",
     "shell.execute_reply": "2024-02-17T22:16:06.509903Z"
    },
    "papermill": {
     "duration": 10.109529,
     "end_time": "2024-02-17T22:16:06.515314",
     "exception": false,
     "start_time": "2024-02-17T22:15:56.405785",
     "status": "completed"
    },
    "tags": []
   },
   "outputs": [],
   "source": [
    "import tensorflow\n",
    "from tensorflow import keras\n",
    "from keras import Sequential\n",
    "from keras.layers import Dense"
   ]
  },
  {
   "cell_type": "code",
   "execution_count": 12,
   "id": "20f3a481",
   "metadata": {
    "execution": {
     "iopub.execute_input": "2024-02-17T22:16:06.545547Z",
     "iopub.status.busy": "2024-02-17T22:16:06.544482Z",
     "iopub.status.idle": "2024-02-17T22:16:06.779646Z",
     "shell.execute_reply": "2024-02-17T22:16:06.778189Z"
    },
    "papermill": {
     "duration": 0.254481,
     "end_time": "2024-02-17T22:16:06.783721",
     "exception": false,
     "start_time": "2024-02-17T22:16:06.529240",
     "status": "completed"
    },
    "tags": []
   },
   "outputs": [],
   "source": [
    "model=Sequential()\n",
    "model.add(Dense(32,activation='relu',input_dim=8))\n",
    "model.add(Dense(1,activation='sigmoid'))\n",
    "\n",
    "model.compile(optimizer='Adam',loss='binary_crossentropy',metrics=['accuracy'])"
   ]
  },
  {
   "cell_type": "code",
   "execution_count": 13,
   "id": "e7cff4ef",
   "metadata": {
    "execution": {
     "iopub.execute_input": "2024-02-17T22:16:06.815694Z",
     "iopub.status.busy": "2024-02-17T22:16:06.814462Z",
     "iopub.status.idle": "2024-02-17T22:16:09.414003Z",
     "shell.execute_reply": "2024-02-17T22:16:09.412677Z"
    },
    "papermill": {
     "duration": 2.618738,
     "end_time": "2024-02-17T22:16:09.416678",
     "exception": false,
     "start_time": "2024-02-17T22:16:06.797940",
     "status": "completed"
    },
    "tags": []
   },
   "outputs": [
    {
     "name": "stdout",
     "output_type": "stream",
     "text": [
      "Epoch 1/10\n",
      "20/20 [==============================] - 2s 17ms/step - loss: 0.6882 - accuracy: 0.5814 - val_loss: 0.6760 - val_accuracy: 0.5909\n",
      "Epoch 2/10\n",
      "20/20 [==============================] - 0s 4ms/step - loss: 0.6338 - accuracy: 0.6303 - val_loss: 0.6255 - val_accuracy: 0.6558\n",
      "Epoch 3/10\n",
      "20/20 [==============================] - 0s 5ms/step - loss: 0.5953 - accuracy: 0.6759 - val_loss: 0.5898 - val_accuracy: 0.6753\n",
      "Epoch 4/10\n",
      "20/20 [==============================] - 0s 4ms/step - loss: 0.5675 - accuracy: 0.6971 - val_loss: 0.5633 - val_accuracy: 0.7013\n",
      "Epoch 5/10\n",
      "20/20 [==============================] - 0s 4ms/step - loss: 0.5448 - accuracy: 0.7264 - val_loss: 0.5423 - val_accuracy: 0.7208\n",
      "Epoch 6/10\n",
      "20/20 [==============================] - 0s 4ms/step - loss: 0.5271 - accuracy: 0.7345 - val_loss: 0.5252 - val_accuracy: 0.7662\n",
      "Epoch 7/10\n",
      "20/20 [==============================] - 0s 4ms/step - loss: 0.5129 - accuracy: 0.7410 - val_loss: 0.5104 - val_accuracy: 0.7727\n",
      "Epoch 8/10\n",
      "20/20 [==============================] - 0s 4ms/step - loss: 0.5012 - accuracy: 0.7459 - val_loss: 0.4996 - val_accuracy: 0.7662\n",
      "Epoch 9/10\n",
      "20/20 [==============================] - 0s 4ms/step - loss: 0.4918 - accuracy: 0.7671 - val_loss: 0.4908 - val_accuracy: 0.7857\n",
      "Epoch 10/10\n",
      "20/20 [==============================] - 0s 4ms/step - loss: 0.4848 - accuracy: 0.7655 - val_loss: 0.4844 - val_accuracy: 0.7792\n"
     ]
    },
    {
     "data": {
      "text/plain": [
       "<keras.callbacks.History at 0x7b348e0a24d0>"
      ]
     },
     "execution_count": 13,
     "metadata": {},
     "output_type": "execute_result"
    }
   ],
   "source": [
    "model.fit(X_train,y_train,batch_size=32,epochs=10,validation_data=(X_test,y_test))"
   ]
  },
  {
   "cell_type": "code",
   "execution_count": 14,
   "id": "7534dd32",
   "metadata": {
    "execution": {
     "iopub.execute_input": "2024-02-17T22:16:09.451341Z",
     "iopub.status.busy": "2024-02-17T22:16:09.450849Z",
     "iopub.status.idle": "2024-02-17T22:16:09.603963Z",
     "shell.execute_reply": "2024-02-17T22:16:09.602655Z"
    },
    "papermill": {
     "duration": 0.174477,
     "end_time": "2024-02-17T22:16:09.607241",
     "exception": false,
     "start_time": "2024-02-17T22:16:09.432764",
     "status": "completed"
    },
    "tags": []
   },
   "outputs": [],
   "source": [
    "import keras_tuner as kt"
   ]
  },
  {
   "cell_type": "markdown",
   "id": "0f2b5200",
   "metadata": {
    "papermill": {
     "duration": 0.015478,
     "end_time": "2024-02-17T22:16:09.638543",
     "exception": false,
     "start_time": "2024-02-17T22:16:09.623065",
     "status": "completed"
    },
    "tags": []
   },
   "source": [
    "**Selecting best Optimizer**"
   ]
  },
  {
   "cell_type": "code",
   "execution_count": 15,
   "id": "b9f4596a",
   "metadata": {
    "execution": {
     "iopub.execute_input": "2024-02-17T22:16:09.672302Z",
     "iopub.status.busy": "2024-02-17T22:16:09.671874Z",
     "iopub.status.idle": "2024-02-17T22:16:09.680225Z",
     "shell.execute_reply": "2024-02-17T22:16:09.678951Z"
    },
    "papermill": {
     "duration": 0.028828,
     "end_time": "2024-02-17T22:16:09.683130",
     "exception": false,
     "start_time": "2024-02-17T22:16:09.654302",
     "status": "completed"
    },
    "tags": []
   },
   "outputs": [],
   "source": [
    "def build_model(hp): #hp :hyperparameter\n",
    "    \n",
    "    model= Sequential()\n",
    "    \n",
    "    model.add(Dense(32,activation='relu',input_dim=8))\n",
    "    model.add(Dense(1,activation='sigmoid'))\n",
    "    \n",
    "    model.compile(optimizer=hp.Choice('optimizer',['adam','sgd','rmsprop','Adagrad']),loss='binary_crossentropy',metrics=['accuracy'])\n",
    "    \n",
    "    return model"
   ]
  },
  {
   "cell_type": "code",
   "execution_count": 16,
   "id": "572a57cb",
   "metadata": {
    "execution": {
     "iopub.execute_input": "2024-02-17T22:16:09.716693Z",
     "iopub.status.busy": "2024-02-17T22:16:09.716215Z",
     "iopub.status.idle": "2024-02-17T22:16:09.759626Z",
     "shell.execute_reply": "2024-02-17T22:16:09.758240Z"
    },
    "papermill": {
     "duration": 0.063897,
     "end_time": "2024-02-17T22:16:09.762812",
     "exception": false,
     "start_time": "2024-02-17T22:16:09.698915",
     "status": "completed"
    },
    "tags": []
   },
   "outputs": [],
   "source": [
    "tuner=kt.RandomSearch(build_model,\n",
    "                     objective='val_accuracy',\n",
    "                     max_trials=3)"
   ]
  },
  {
   "cell_type": "code",
   "execution_count": 17,
   "id": "c3e1a608",
   "metadata": {
    "execution": {
     "iopub.execute_input": "2024-02-17T22:16:09.798240Z",
     "iopub.status.busy": "2024-02-17T22:16:09.797532Z",
     "iopub.status.idle": "2024-02-17T22:16:15.456331Z",
     "shell.execute_reply": "2024-02-17T22:16:15.455271Z"
    },
    "papermill": {
     "duration": 5.679087,
     "end_time": "2024-02-17T22:16:15.459110",
     "exception": false,
     "start_time": "2024-02-17T22:16:09.780023",
     "status": "completed"
    },
    "tags": []
   },
   "outputs": [
    {
     "name": "stdout",
     "output_type": "stream",
     "text": [
      "Trial 3 Complete [00h 00m 02s]\n",
      "val_accuracy: 0.7532467246055603\n",
      "\n",
      "Best val_accuracy So Far: 0.8051947951316833\n",
      "Total elapsed time: 00h 00m 06s\n"
     ]
    }
   ],
   "source": [
    "tuner.search(X_train,y_train,epochs=5,validation_data=(X_test,y_test))"
   ]
  },
  {
   "cell_type": "code",
   "execution_count": 18,
   "id": "786ec911",
   "metadata": {
    "execution": {
     "iopub.execute_input": "2024-02-17T22:16:15.493219Z",
     "iopub.status.busy": "2024-02-17T22:16:15.492802Z",
     "iopub.status.idle": "2024-02-17T22:16:15.501242Z",
     "shell.execute_reply": "2024-02-17T22:16:15.499984Z"
    },
    "papermill": {
     "duration": 0.028626,
     "end_time": "2024-02-17T22:16:15.504118",
     "exception": false,
     "start_time": "2024-02-17T22:16:15.475492",
     "status": "completed"
    },
    "tags": []
   },
   "outputs": [
    {
     "data": {
      "text/plain": [
       "{'optimizer': 'rmsprop'}"
      ]
     },
     "execution_count": 18,
     "metadata": {},
     "output_type": "execute_result"
    }
   ],
   "source": [
    " tuner.get_best_hyperparameters()[0].values"
   ]
  },
  {
   "cell_type": "code",
   "execution_count": 19,
   "id": "b4da8dc6",
   "metadata": {
    "execution": {
     "iopub.execute_input": "2024-02-17T22:16:15.537981Z",
     "iopub.status.busy": "2024-02-17T22:16:15.537505Z",
     "iopub.status.idle": "2024-02-17T22:16:15.870820Z",
     "shell.execute_reply": "2024-02-17T22:16:15.869736Z"
    },
    "papermill": {
     "duration": 0.353804,
     "end_time": "2024-02-17T22:16:15.873888",
     "exception": false,
     "start_time": "2024-02-17T22:16:15.520084",
     "status": "completed"
    },
    "tags": []
   },
   "outputs": [],
   "source": [
    "model=tuner.get_best_models(num_models=1)[0]"
   ]
  },
  {
   "cell_type": "code",
   "execution_count": 20,
   "id": "98ef44fa",
   "metadata": {
    "execution": {
     "iopub.execute_input": "2024-02-17T22:16:15.907917Z",
     "iopub.status.busy": "2024-02-17T22:16:15.907458Z",
     "iopub.status.idle": "2024-02-17T22:16:15.927816Z",
     "shell.execute_reply": "2024-02-17T22:16:15.926315Z"
    },
    "papermill": {
     "duration": 0.045179,
     "end_time": "2024-02-17T22:16:15.935228",
     "exception": false,
     "start_time": "2024-02-17T22:16:15.890049",
     "status": "completed"
    },
    "tags": []
   },
   "outputs": [
    {
     "name": "stdout",
     "output_type": "stream",
     "text": [
      "Model: \"sequential\"\n",
      "_________________________________________________________________\n",
      " Layer (type)                Output Shape              Param #   \n",
      "=================================================================\n",
      " dense (Dense)               (None, 32)                288       \n",
      "                                                                 \n",
      " dense_1 (Dense)             (None, 1)                 33        \n",
      "                                                                 \n",
      "=================================================================\n",
      "Total params: 321\n",
      "Trainable params: 321\n",
      "Non-trainable params: 0\n",
      "_________________________________________________________________\n"
     ]
    }
   ],
   "source": [
    "model.summary()"
   ]
  },
  {
   "cell_type": "code",
   "execution_count": 21,
   "id": "27d328df",
   "metadata": {
    "execution": {
     "iopub.execute_input": "2024-02-17T22:16:15.972998Z",
     "iopub.status.busy": "2024-02-17T22:16:15.972099Z",
     "iopub.status.idle": "2024-02-17T22:16:17.977065Z",
     "shell.execute_reply": "2024-02-17T22:16:17.975413Z"
    },
    "papermill": {
     "duration": 2.02752,
     "end_time": "2024-02-17T22:16:17.980437",
     "exception": false,
     "start_time": "2024-02-17T22:16:15.952917",
     "status": "completed"
    },
    "tags": []
   },
   "outputs": [
    {
     "name": "stdout",
     "output_type": "stream",
     "text": [
      "Epoch 7/20\n",
      "20/20 [==============================] - 1s 13ms/step - loss: 0.5153 - accuracy: 0.7524 - val_loss: 0.4836 - val_accuracy: 0.8052\n",
      "Epoch 8/20\n",
      "20/20 [==============================] - 0s 4ms/step - loss: 0.5040 - accuracy: 0.7590 - val_loss: 0.4761 - val_accuracy: 0.7987\n",
      "Epoch 9/20\n",
      "20/20 [==============================] - 0s 4ms/step - loss: 0.4952 - accuracy: 0.7687 - val_loss: 0.4700 - val_accuracy: 0.8052\n",
      "Epoch 10/20\n",
      "20/20 [==============================] - 0s 4ms/step - loss: 0.4875 - accuracy: 0.7752 - val_loss: 0.4636 - val_accuracy: 0.8052\n",
      "Epoch 11/20\n",
      "20/20 [==============================] - 0s 4ms/step - loss: 0.4809 - accuracy: 0.7752 - val_loss: 0.4606 - val_accuracy: 0.7987\n",
      "Epoch 12/20\n",
      "20/20 [==============================] - 0s 4ms/step - loss: 0.4756 - accuracy: 0.7736 - val_loss: 0.4565 - val_accuracy: 0.8052\n",
      "Epoch 13/20\n",
      "20/20 [==============================] - 0s 4ms/step - loss: 0.4711 - accuracy: 0.7736 - val_loss: 0.4546 - val_accuracy: 0.7987\n",
      "Epoch 14/20\n",
      "20/20 [==============================] - 0s 4ms/step - loss: 0.4675 - accuracy: 0.7720 - val_loss: 0.4533 - val_accuracy: 0.8182\n",
      "Epoch 15/20\n",
      "20/20 [==============================] - 0s 4ms/step - loss: 0.4647 - accuracy: 0.7687 - val_loss: 0.4522 - val_accuracy: 0.8117\n",
      "Epoch 16/20\n",
      "20/20 [==============================] - 0s 4ms/step - loss: 0.4617 - accuracy: 0.7720 - val_loss: 0.4521 - val_accuracy: 0.8052\n",
      "Epoch 17/20\n",
      "20/20 [==============================] - 0s 4ms/step - loss: 0.4594 - accuracy: 0.7752 - val_loss: 0.4513 - val_accuracy: 0.8052\n",
      "Epoch 18/20\n",
      "20/20 [==============================] - 0s 4ms/step - loss: 0.4579 - accuracy: 0.7752 - val_loss: 0.4516 - val_accuracy: 0.8052\n",
      "Epoch 19/20\n",
      "20/20 [==============================] - 0s 4ms/step - loss: 0.4562 - accuracy: 0.7769 - val_loss: 0.4513 - val_accuracy: 0.7987\n",
      "Epoch 20/20\n",
      "20/20 [==============================] - 0s 4ms/step - loss: 0.4547 - accuracy: 0.7769 - val_loss: 0.4514 - val_accuracy: 0.7987\n"
     ]
    },
    {
     "data": {
      "text/plain": [
       "<keras.callbacks.History at 0x7b3430381710>"
      ]
     },
     "execution_count": 21,
     "metadata": {},
     "output_type": "execute_result"
    }
   ],
   "source": [
    "model.fit(X_train,y_train,batch_size=32,epochs=20,initial_epoch=6,validation_data=(X_test,y_test))"
   ]
  },
  {
   "cell_type": "markdown",
   "id": "7e7b94f0",
   "metadata": {
    "papermill": {
     "duration": 0.021346,
     "end_time": "2024-02-17T22:16:18.023356",
     "exception": false,
     "start_time": "2024-02-17T22:16:18.002010",
     "status": "completed"
    },
    "tags": []
   },
   "source": [
    "**No of Neurons**"
   ]
  },
  {
   "cell_type": "code",
   "execution_count": 22,
   "id": "fb2e0283",
   "metadata": {
    "execution": {
     "iopub.execute_input": "2024-02-17T22:16:18.068129Z",
     "iopub.status.busy": "2024-02-17T22:16:18.066935Z",
     "iopub.status.idle": "2024-02-17T22:16:18.075149Z",
     "shell.execute_reply": "2024-02-17T22:16:18.073974Z"
    },
    "papermill": {
     "duration": 0.034383,
     "end_time": "2024-02-17T22:16:18.078575",
     "exception": false,
     "start_time": "2024-02-17T22:16:18.044192",
     "status": "completed"
    },
    "tags": []
   },
   "outputs": [],
   "source": [
    "def build_model(hp):\n",
    "    model=Sequential()\n",
    "    \n",
    "    #no of neurons\n",
    "    units=hp.Int('units',8,128,step=8)\n",
    "    \n",
    "    model.add(Dense(units=units,activation='relu',input_dim=8))\n",
    "    model.add(Dense(1,activation='sigmoid'))\n",
    "    \n",
    "    model.compile(optimizer='rmsprop',loss='binary_crossentropy',metrics=['accuracy'])\n",
    "    \n",
    "    return model"
   ]
  },
  {
   "cell_type": "code",
   "execution_count": 23,
   "id": "b860e4df",
   "metadata": {
    "execution": {
     "iopub.execute_input": "2024-02-17T22:16:18.123623Z",
     "iopub.status.busy": "2024-02-17T22:16:18.123076Z",
     "iopub.status.idle": "2024-02-17T22:16:18.171786Z",
     "shell.execute_reply": "2024-02-17T22:16:18.169904Z"
    },
    "papermill": {
     "duration": 0.075471,
     "end_time": "2024-02-17T22:16:18.175385",
     "exception": false,
     "start_time": "2024-02-17T22:16:18.099914",
     "status": "completed"
    },
    "tags": []
   },
   "outputs": [],
   "source": [
    "tuner=kt.RandomSearch(build_model,\n",
    "                     objective='val_accuracy',\n",
    "                     max_trials=5,\n",
    "                     directory='/kaggle/working/',\n",
    "                     project_name='Tuner_files')\n"
   ]
  },
  {
   "cell_type": "code",
   "execution_count": 24,
   "id": "b2cebdf7",
   "metadata": {
    "execution": {
     "iopub.execute_input": "2024-02-17T22:16:18.221827Z",
     "iopub.status.busy": "2024-02-17T22:16:18.220302Z",
     "iopub.status.idle": "2024-02-17T22:16:26.061474Z",
     "shell.execute_reply": "2024-02-17T22:16:26.060320Z"
    },
    "papermill": {
     "duration": 7.867838,
     "end_time": "2024-02-17T22:16:26.064802",
     "exception": false,
     "start_time": "2024-02-17T22:16:18.196964",
     "status": "completed"
    },
    "tags": []
   },
   "outputs": [
    {
     "name": "stdout",
     "output_type": "stream",
     "text": [
      "Trial 5 Complete [00h 00m 02s]\n",
      "val_accuracy: 0.8051947951316833\n",
      "\n",
      "Best val_accuracy So Far: 0.8051947951316833\n",
      "Total elapsed time: 00h 00m 08s\n"
     ]
    }
   ],
   "source": [
    "tuner.search(X_train,y_train,epochs=3,validation_data=(X_test,y_test))"
   ]
  },
  {
   "cell_type": "code",
   "execution_count": 25,
   "id": "cdd58bf8",
   "metadata": {
    "execution": {
     "iopub.execute_input": "2024-02-17T22:16:26.112619Z",
     "iopub.status.busy": "2024-02-17T22:16:26.112124Z",
     "iopub.status.idle": "2024-02-17T22:16:26.122000Z",
     "shell.execute_reply": "2024-02-17T22:16:26.120514Z"
    },
    "papermill": {
     "duration": 0.037746,
     "end_time": "2024-02-17T22:16:26.125132",
     "exception": false,
     "start_time": "2024-02-17T22:16:26.087386",
     "status": "completed"
    },
    "tags": []
   },
   "outputs": [
    {
     "data": {
      "text/plain": [
       "{'units': 104}"
      ]
     },
     "execution_count": 25,
     "metadata": {},
     "output_type": "execute_result"
    }
   ],
   "source": [
    "tuner.get_best_hyperparameters()[0].values"
   ]
  },
  {
   "cell_type": "code",
   "execution_count": 26,
   "id": "119b35ea",
   "metadata": {
    "execution": {
     "iopub.execute_input": "2024-02-17T22:16:26.171443Z",
     "iopub.status.busy": "2024-02-17T22:16:26.170990Z",
     "iopub.status.idle": "2024-02-17T22:16:26.589585Z",
     "shell.execute_reply": "2024-02-17T22:16:26.588082Z"
    },
    "papermill": {
     "duration": 0.445327,
     "end_time": "2024-02-17T22:16:26.592995",
     "exception": false,
     "start_time": "2024-02-17T22:16:26.147668",
     "status": "completed"
    },
    "tags": []
   },
   "outputs": [],
   "source": [
    "model=tuner.get_best_models(num_models=1)[0]"
   ]
  },
  {
   "cell_type": "code",
   "execution_count": 27,
   "id": "062f6c77",
   "metadata": {
    "execution": {
     "iopub.execute_input": "2024-02-17T22:16:26.639644Z",
     "iopub.status.busy": "2024-02-17T22:16:26.639134Z",
     "iopub.status.idle": "2024-02-17T22:16:26.667091Z",
     "shell.execute_reply": "2024-02-17T22:16:26.665367Z"
    },
    "papermill": {
     "duration": 0.05632,
     "end_time": "2024-02-17T22:16:26.671201",
     "exception": false,
     "start_time": "2024-02-17T22:16:26.614881",
     "status": "completed"
    },
    "tags": []
   },
   "outputs": [
    {
     "name": "stdout",
     "output_type": "stream",
     "text": [
      "Model: \"sequential\"\n",
      "_________________________________________________________________\n",
      " Layer (type)                Output Shape              Param #   \n",
      "=================================================================\n",
      " dense (Dense)               (None, 104)               936       \n",
      "                                                                 \n",
      " dense_1 (Dense)             (None, 1)                 105       \n",
      "                                                                 \n",
      "=================================================================\n",
      "Total params: 1,041\n",
      "Trainable params: 1,041\n",
      "Non-trainable params: 0\n",
      "_________________________________________________________________\n"
     ]
    }
   ],
   "source": [
    "model.summary()"
   ]
  },
  {
   "cell_type": "code",
   "execution_count": 28,
   "id": "4829f2e7",
   "metadata": {
    "execution": {
     "iopub.execute_input": "2024-02-17T22:16:26.722280Z",
     "iopub.status.busy": "2024-02-17T22:16:26.720678Z",
     "iopub.status.idle": "2024-02-17T22:16:29.997097Z",
     "shell.execute_reply": "2024-02-17T22:16:29.995679Z"
    },
    "papermill": {
     "duration": 3.305059,
     "end_time": "2024-02-17T22:16:30.000272",
     "exception": false,
     "start_time": "2024-02-17T22:16:26.695213",
     "status": "completed"
    },
    "tags": []
   },
   "outputs": [
    {
     "name": "stdout",
     "output_type": "stream",
     "text": [
      "Epoch 5/20\n",
      "20/20 [==============================] - 1s 13ms/step - loss: 0.4949 - accuracy: 0.7671 - val_loss: 0.4843 - val_accuracy: 0.8182\n",
      "Epoch 6/20\n",
      "20/20 [==============================] - 0s 4ms/step - loss: 0.4799 - accuracy: 0.7687 - val_loss: 0.4725 - val_accuracy: 0.7987\n",
      "Epoch 7/20\n",
      "20/20 [==============================] - 0s 4ms/step - loss: 0.4691 - accuracy: 0.7785 - val_loss: 0.4675 - val_accuracy: 0.8052\n",
      "Epoch 8/20\n",
      "20/20 [==============================] - 0s 4ms/step - loss: 0.4627 - accuracy: 0.7752 - val_loss: 0.4650 - val_accuracy: 0.8052\n",
      "Epoch 9/20\n",
      "20/20 [==============================] - 0s 5ms/step - loss: 0.4585 - accuracy: 0.7785 - val_loss: 0.4624 - val_accuracy: 0.8052\n",
      "Epoch 10/20\n",
      "20/20 [==============================] - 0s 4ms/step - loss: 0.4550 - accuracy: 0.7769 - val_loss: 0.4614 - val_accuracy: 0.7922\n",
      "Epoch 11/20\n",
      "20/20 [==============================] - 0s 5ms/step - loss: 0.4513 - accuracy: 0.7785 - val_loss: 0.4585 - val_accuracy: 0.7857\n",
      "Epoch 12/20\n",
      "20/20 [==============================] - 0s 5ms/step - loss: 0.4492 - accuracy: 0.7801 - val_loss: 0.4578 - val_accuracy: 0.7922\n",
      "Epoch 13/20\n",
      "20/20 [==============================] - 0s 5ms/step - loss: 0.4475 - accuracy: 0.7785 - val_loss: 0.4581 - val_accuracy: 0.7987\n",
      "Epoch 14/20\n",
      "20/20 [==============================] - 0s 4ms/step - loss: 0.4455 - accuracy: 0.7720 - val_loss: 0.4567 - val_accuracy: 0.7987\n",
      "Epoch 15/20\n",
      "20/20 [==============================] - 0s 4ms/step - loss: 0.4446 - accuracy: 0.7850 - val_loss: 0.4586 - val_accuracy: 0.8117\n",
      "Epoch 16/20\n",
      "20/20 [==============================] - 0s 4ms/step - loss: 0.4426 - accuracy: 0.7720 - val_loss: 0.4563 - val_accuracy: 0.7987\n",
      "Epoch 17/20\n",
      "20/20 [==============================] - 0s 5ms/step - loss: 0.4418 - accuracy: 0.7801 - val_loss: 0.4566 - val_accuracy: 0.7987\n",
      "Epoch 18/20\n",
      "20/20 [==============================] - 0s 4ms/step - loss: 0.4401 - accuracy: 0.7818 - val_loss: 0.4589 - val_accuracy: 0.7792\n",
      "Epoch 19/20\n",
      "20/20 [==============================] - 0s 5ms/step - loss: 0.4394 - accuracy: 0.7818 - val_loss: 0.4582 - val_accuracy: 0.8052\n",
      "Epoch 20/20\n",
      "20/20 [==============================] - 0s 5ms/step - loss: 0.4388 - accuracy: 0.7752 - val_loss: 0.4592 - val_accuracy: 0.8052\n"
     ]
    },
    {
     "data": {
      "text/plain": [
       "<keras.callbacks.History at 0x7b3430057850>"
      ]
     },
     "execution_count": 28,
     "metadata": {},
     "output_type": "execute_result"
    }
   ],
   "source": [
    "model.fit(X_train,y_train,batch_size=32,epochs=20,initial_epoch=4,validation_data=(X_test,y_test))"
   ]
  },
  {
   "cell_type": "markdown",
   "id": "2f8d4355",
   "metadata": {
    "papermill": {
     "duration": 0.028359,
     "end_time": "2024-02-17T22:16:30.057791",
     "exception": false,
     "start_time": "2024-02-17T22:16:30.029432",
     "status": "completed"
    },
    "tags": []
   },
   "source": [
    "**Selecting Best no of Layers**"
   ]
  },
  {
   "cell_type": "code",
   "execution_count": 29,
   "id": "8323013a",
   "metadata": {
    "execution": {
     "iopub.execute_input": "2024-02-17T22:16:30.116987Z",
     "iopub.status.busy": "2024-02-17T22:16:30.115407Z",
     "iopub.status.idle": "2024-02-17T22:16:30.124734Z",
     "shell.execute_reply": "2024-02-17T22:16:30.123664Z"
    },
    "papermill": {
     "duration": 0.04165,
     "end_time": "2024-02-17T22:16:30.127626",
     "exception": false,
     "start_time": "2024-02-17T22:16:30.085976",
     "status": "completed"
    },
    "tags": []
   },
   "outputs": [],
   "source": [
    "def build_model(hp):\n",
    "    model=Sequential()\n",
    "    model.add(Dense(units=48,activation='relu',input_dim=8))\n",
    "    \n",
    "    #no of layers\n",
    "    for  i in range(hp.Int('num_layers',min_value=1,max_value=10)):\n",
    "        \n",
    "    \n",
    "        model.add(Dense(units=72,activation='relu',input_dim=8))\n",
    "    model.add(Dense(1,activation='sigmoid'))\n",
    "    \n",
    "    model.compile(optimizer='rmsprop',loss='binary_crossentropy',metrics=['accuracy'])\n",
    "    \n",
    "    return model"
   ]
  },
  {
   "cell_type": "code",
   "execution_count": 30,
   "id": "bc186adb",
   "metadata": {
    "execution": {
     "iopub.execute_input": "2024-02-17T22:16:30.185802Z",
     "iopub.status.busy": "2024-02-17T22:16:30.184987Z",
     "iopub.status.idle": "2024-02-17T22:16:30.270330Z",
     "shell.execute_reply": "2024-02-17T22:16:30.268712Z"
    },
    "papermill": {
     "duration": 0.118314,
     "end_time": "2024-02-17T22:16:30.273713",
     "exception": false,
     "start_time": "2024-02-17T22:16:30.155399",
     "status": "completed"
    },
    "tags": []
   },
   "outputs": [],
   "source": [
    "Layertuner=kt.RandomSearch(build_model,\n",
    "                     objective='val_accuracy',\n",
    "                     max_trials=5,\n",
    "                     directory='/kaggle/working/',\n",
    "                     project_name='Tuner_files'\n",
    "                     )"
   ]
  },
  {
   "cell_type": "code",
   "execution_count": 31,
   "id": "7ac73f93",
   "metadata": {
    "execution": {
     "iopub.execute_input": "2024-02-17T22:16:30.334142Z",
     "iopub.status.busy": "2024-02-17T22:16:30.333011Z",
     "iopub.status.idle": "2024-02-17T22:16:30.342282Z",
     "shell.execute_reply": "2024-02-17T22:16:30.340910Z"
    },
    "papermill": {
     "duration": 0.044125,
     "end_time": "2024-02-17T22:16:30.345740",
     "exception": false,
     "start_time": "2024-02-17T22:16:30.301615",
     "status": "completed"
    },
    "tags": []
   },
   "outputs": [],
   "source": [
    "Layertuner.search(X_train,y_train,epochs=5,validation_data=(X_test,y_test))"
   ]
  },
  {
   "cell_type": "code",
   "execution_count": 32,
   "id": "97e3dc3a",
   "metadata": {
    "execution": {
     "iopub.execute_input": "2024-02-17T22:16:30.410118Z",
     "iopub.status.busy": "2024-02-17T22:16:30.408607Z",
     "iopub.status.idle": "2024-02-17T22:16:30.417471Z",
     "shell.execute_reply": "2024-02-17T22:16:30.415833Z"
    },
    "papermill": {
     "duration": 0.044028,
     "end_time": "2024-02-17T22:16:30.420681",
     "exception": false,
     "start_time": "2024-02-17T22:16:30.376653",
     "status": "completed"
    },
    "tags": []
   },
   "outputs": [
    {
     "data": {
      "text/plain": [
       "{'units': 104}"
      ]
     },
     "execution_count": 32,
     "metadata": {},
     "output_type": "execute_result"
    }
   ],
   "source": [
    "Layertuner.get_best_hyperparameters()[0].values"
   ]
  },
  {
   "cell_type": "code",
   "execution_count": null,
   "id": "24ae4cf1",
   "metadata": {
    "papermill": {
     "duration": 0.027785,
     "end_time": "2024-02-17T22:16:30.476945",
     "exception": false,
     "start_time": "2024-02-17T22:16:30.449160",
     "status": "completed"
    },
    "tags": []
   },
   "outputs": [],
   "source": []
  }
 ],
 "metadata": {
  "kaggle": {
   "accelerator": "none",
   "dataSources": [
    {
     "datasetId": 228,
     "sourceId": 482,
     "sourceType": "datasetVersion"
    }
   ],
   "dockerImageVersionId": 30458,
   "isGpuEnabled": false,
   "isInternetEnabled": true,
   "language": "python",
   "sourceType": "notebook"
  },
  "kernelspec": {
   "display_name": "Python 3",
   "language": "python",
   "name": "python3"
  },
  "language_info": {
   "codemirror_mode": {
    "name": "ipython",
    "version": 3
   },
   "file_extension": ".py",
   "mimetype": "text/x-python",
   "name": "python",
   "nbconvert_exporter": "python",
   "pygments_lexer": "ipython3",
   "version": "3.7.12"
  },
  "papermill": {
   "default_parameters": {},
   "duration": 53.911611,
   "end_time": "2024-02-17T22:16:33.964486",
   "environment_variables": {},
   "exception": null,
   "input_path": "__notebook__.ipynb",
   "output_path": "__notebook__.ipynb",
   "parameters": {},
   "start_time": "2024-02-17T22:15:40.052875",
   "version": "2.4.0"
  }
 },
 "nbformat": 4,
 "nbformat_minor": 5
}
